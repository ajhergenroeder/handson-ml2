{
 "cells": [
  {
   "cell_type": "code",
   "execution_count": 1,
   "id": "1e95a600",
   "metadata": {},
   "outputs": [],
   "source": [
    "###AJ Stuff\n",
    "%config Completer.use_jedi = False\n",
    "\n",
    "%load_ext autoreload\n",
    "%autoreload 2\n",
    "\n",
    "import os\n",
    "import sys\n",
    "import sklearn\n",
    "import numpy as np\n",
    "from pathlib import Path\n",
    "import matplotlib.pyplot as plt\n",
    "\n",
    "from params import N_STEPS as n_steps\n",
    "from params import IMAGES_PATH\n",
    "from ch15_utils_plain import (\n",
    "    save_fig,\n",
    "    generate_time_series\n",
    ")\n",
    "np.random.seed(42)\n",
    "\n",
    "# Python ≥3.5 is required\n",
    "assert sys.version_info >= (3, 5)\n",
    "\n",
    "# Scikit-Learn ≥0.20 is required\n",
    "assert sklearn.__version__ >= \"0.20\"\n",
    "\n",
    "%matplotlib inline\n",
    "\n",
    "# Where to save the figures\n",
    "os.makedirs(IMAGES_PATH, exist_ok=True)\n",
    "\n"
   ]
  },
  {
   "cell_type": "markdown",
   "id": "bef224c0",
   "metadata": {},
   "source": [
    "# 15.3 Forecasting a Time Series"
   ]
  },
  {
   "cell_type": "code",
   "execution_count": 10,
   "id": "66a62a00",
   "metadata": {},
   "outputs": [
    {
     "data": {
      "text/plain": [
       "(10000, 16, 1)"
      ]
     },
     "execution_count": 10,
     "metadata": {},
     "output_type": "execute_result"
    }
   ],
   "source": [
    "series = generate_time_series(\n",
    "    ### Generate 10k distinct time series\n",
    "    batch_size=10000, \n",
    "    ### Each 16 time-steps long\n",
    "    n_steps=n_steps + 1\n",
    ")\n",
    "series.shape"
   ]
  },
  {
   "cell_type": "code",
   "execution_count": 12,
   "id": "0375fc86",
   "metadata": {},
   "outputs": [
    {
     "name": "stdout",
     "output_type": "stream",
     "text": [
      "(7000, 15, 1) (7000, 1) \n",
      "---\n",
      " (2000, 15, 1) (2000, 1) \n",
      "---\n",
      " (1000, 15, 1) (1000, 1)\n"
     ]
    }
   ],
   "source": [
    "### 1: Split 70%/20%/10% of these series to training/validation/test sets\n",
    "### 2: Goal is to predict the 16th value -- y -- given the 1st 15 values in sequence.\n",
    "\n",
    "### Train\n",
    "X_train, y_train = series[:7000, :n_steps], series[:7000, -1]\n",
    "\n",
    "### Valid\n",
    "X_valid, y_valid = series[7000:9000, :n_steps], series[7000:9000, -1]\n",
    "\n",
    "### Test\n",
    "X_test, y_test = series[9000:, :n_steps], series[9000:, -1]\n",
    "\n",
    "print(X_train.shape, y_train.shape,\n",
    "      \"\\n---\\n\",\n",
    "      X_valid.shape, y_valid.shape,\n",
    "      \"\\n---\\n\",\n",
    "      X_test.shape, y_test.shape)"
   ]
  },
  {
   "cell_type": "code",
   "execution_count": null,
   "id": "9fb08efe",
   "metadata": {},
   "outputs": [],
   "source": []
  }
 ],
 "metadata": {
  "kernelspec": {
   "display_name": "Python 3 (ipykernel)",
   "language": "python",
   "name": "python3"
  },
  "language_info": {
   "codemirror_mode": {
    "name": "ipython",
    "version": 3
   },
   "file_extension": ".py",
   "mimetype": "text/x-python",
   "name": "python",
   "nbconvert_exporter": "python",
   "pygments_lexer": "ipython3",
   "version": "3.8.12"
  }
 },
 "nbformat": 4,
 "nbformat_minor": 5
}
